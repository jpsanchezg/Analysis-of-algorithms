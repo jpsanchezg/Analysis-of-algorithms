{
  "nbformat": 4,
  "nbformat_minor": 0,
  "metadata": {
    "colab": {
      "name": "Untitled0.ipynb",
      "provenance": [],
      "authorship_tag": "ABX9TyOytTuGT96OGFP8QovtlUs4",
      "include_colab_link": true
    },
    "kernelspec": {
      "name": "python3",
      "display_name": "Python 3"
    },
    "language_info": {
      "name": "python"
    }
  },
  "cells": [
    {
      "cell_type": "markdown",
      "metadata": {
        "id": "view-in-github",
        "colab_type": "text"
      },
      "source": [
        "<a href=\"https://colab.research.google.com/github/jpsanchezg/Analysis-of-algorithms/blob/Master/taller5.ipynb\" target=\"_parent\"><img src=\"https://colab.research.google.com/assets/colab-badge.svg\" alt=\"Open In Colab\"/></a>"
      ]
    },
    {
      "cell_type": "markdown",
      "source": [
        "# Taller #5\n",
        "###juan pablo sanchez gaitan"
      ],
      "metadata": {
        "id": "N_bhyKTk5-nS"
      }
    },
    {
      "cell_type": "code",
      "execution_count": 3,
      "metadata": {
        "colab": {
          "base_uri": "https://localhost:8080/",
          "height": 159
        },
        "id": "qyv10b2m5tau",
        "outputId": "2d747322-2a2e-4907-babf-749281aff8a4"
      },
      "outputs": [
        {
          "output_type": "execute_result",
          "data": {
            "application/json": {
              "cell": {
                "prun": "ExecutionMagics",
                "file": "Other",
                "!": "OSMagics",
                "capture": "ExecutionMagics",
                "timeit": "ExecutionMagics",
                "script": "ScriptMagics",
                "pypy": "Other",
                "system": "OSMagics",
                "perl": "Other",
                "html": "DisplayMagics",
                "bash": "Other",
                "shell": "Other",
                "HTML": "Other",
                "python": "Other",
                "SVG": "Other",
                "javascript": "DisplayMagics",
                "bigquery": "Other",
                "js": "DisplayMagics",
                "writefile": "OSMagics",
                "ruby": "Other",
                "python3": "Other",
                "python2": "Other",
                "latex": "DisplayMagics",
                "sx": "OSMagics",
                "svg": "DisplayMagics",
                "sh": "Other",
                "time": "ExecutionMagics",
                "debug": "ExecutionMagics"
              },
              "line": {
                "psource": "NamespaceMagics",
                "logstart": "LoggingMagics",
                "popd": "OSMagics",
                "tensorflow_version": "Other",
                "loadpy": "CodeMagics",
                "colors": "BasicMagics",
                "who_ls": "NamespaceMagics",
                "lf": "Other",
                "ll": "Other",
                "pprint": "BasicMagics",
                "lk": "Other",
                "ls": "Other",
                "save": "CodeMagics",
                "tb": "ExecutionMagics",
                "lx": "Other",
                "pylab": "PylabMagics",
                "killbgscripts": "ScriptMagics",
                "quickref": "BasicMagics",
                "magic": "BasicMagics",
                "dhist": "OSMagics",
                "edit": "KernelMagics",
                "logstop": "LoggingMagics",
                "gui": "BasicMagics",
                "prun": "ExecutionMagics",
                "debug": "ExecutionMagics",
                "page": "BasicMagics",
                "logstate": "LoggingMagics",
                "ed": "Other",
                "pushd": "OSMagics",
                "timeit": "ExecutionMagics",
                "set_env": "OSMagics",
                "rehashx": "OSMagics",
                "hist": "Other",
                "qtconsole": "KernelMagics",
                "rm": "Other",
                "dirs": "OSMagics",
                "run": "ExecutionMagics",
                "reset_selective": "NamespaceMagics",
                "pinfo2": "NamespaceMagics",
                "matplotlib": "PylabMagics",
                "unload_ext": "ExtensionMagics",
                "doctest_mode": "BasicMagics",
                "logoff": "LoggingMagics",
                "reload_ext": "ExtensionMagics",
                "pdb": "ExecutionMagics",
                "load": "CodeMagics",
                "lsmagic": "BasicMagics",
                "autosave": "KernelMagics",
                "cd": "OSMagics",
                "pastebin": "CodeMagics",
                "alias_magic": "BasicMagics",
                "cp": "Other",
                "autocall": "AutoMagics",
                "ldir": "Other",
                "bookmark": "OSMagics",
                "connect_info": "KernelMagics",
                "mkdir": "Other",
                "system": "OSMagics",
                "whos": "NamespaceMagics",
                "rmdir": "Other",
                "automagic": "AutoMagics",
                "store": "StoreMagics",
                "more": "KernelMagics",
                "shell": "Other",
                "pdef": "NamespaceMagics",
                "precision": "BasicMagics",
                "pinfo": "NamespaceMagics",
                "pwd": "OSMagics",
                "psearch": "NamespaceMagics",
                "reset": "NamespaceMagics",
                "recall": "HistoryMagics",
                "xdel": "NamespaceMagics",
                "xmode": "BasicMagics",
                "cat": "Other",
                "mv": "Other",
                "rerun": "HistoryMagics",
                "logon": "LoggingMagics",
                "history": "HistoryMagics",
                "pycat": "OSMagics",
                "pip": "Other",
                "unalias": "OSMagics",
                "env": "OSMagics",
                "load_ext": "ExtensionMagics",
                "config": "ConfigMagics",
                "profile": "BasicMagics",
                "pfile": "NamespaceMagics",
                "less": "KernelMagics",
                "who": "NamespaceMagics",
                "notebook": "BasicMagics",
                "man": "KernelMagics",
                "sx": "OSMagics",
                "macro": "ExecutionMagics",
                "clear": "KernelMagics",
                "alias": "OSMagics",
                "time": "ExecutionMagics",
                "sc": "OSMagics",
                "rep": "Other",
                "pdoc": "NamespaceMagics"
              }
            },
            "text/plain": [
              "Available line magics:\n",
              "%alias  %alias_magic  %autocall  %automagic  %autosave  %bookmark  %cat  %cd  %clear  %colors  %config  %connect_info  %cp  %debug  %dhist  %dirs  %doctest_mode  %ed  %edit  %env  %gui  %hist  %history  %killbgscripts  %ldir  %less  %lf  %lk  %ll  %load  %load_ext  %loadpy  %logoff  %logon  %logstart  %logstate  %logstop  %ls  %lsmagic  %lx  %macro  %magic  %man  %matplotlib  %mkdir  %more  %mv  %notebook  %page  %pastebin  %pdb  %pdef  %pdoc  %pfile  %pinfo  %pinfo2  %pip  %popd  %pprint  %precision  %profile  %prun  %psearch  %psource  %pushd  %pwd  %pycat  %pylab  %qtconsole  %quickref  %recall  %rehashx  %reload_ext  %rep  %rerun  %reset  %reset_selective  %rm  %rmdir  %run  %save  %sc  %set_env  %shell  %store  %sx  %system  %tb  %tensorflow_version  %time  %timeit  %unalias  %unload_ext  %who  %who_ls  %whos  %xdel  %xmode\n",
              "\n",
              "Available cell magics:\n",
              "%%!  %%HTML  %%SVG  %%bash  %%bigquery  %%capture  %%debug  %%file  %%html  %%javascript  %%js  %%latex  %%perl  %%prun  %%pypy  %%python  %%python2  %%python3  %%ruby  %%script  %%sh  %%shell  %%svg  %%sx  %%system  %%time  %%timeit  %%writefile\n",
              "\n",
              "Automagic is ON, % prefix IS NOT needed for line magics."
            ]
          },
          "metadata": {},
          "execution_count": 3
        }
      ],
      "source": [
        "%lsmagic"
      ]
    },
    {
      "cell_type": "markdown",
      "source": [
        "##punto #1\n",
        "\n",
        "ecuacion de referencia:\n",
        "\\\\begin{align}\n",
        "  \\text{T}(n) =\\left\\{\n",
        "  \\begin{array}{cl}\n",
        "  1 & n = 0 \\\\\n",
        "  4+T(n-1) & n>0 \\\\\n",
        "  \\end{array}\n",
        "  \\right.\n",
        "\\end{align}\n",
        "Forma general:\n",
        "\\\\begin{align}\n",
        "  \\text{T}(n) =\\left.\n",
        "  \\text{4}k+T(n-k)\\right.\n",
        "\\end{align}\n",
        "\n",
        "complejidad:\n",
        "\\\\begin{align}\n",
        "  \\text{T}(n) =\\left.\n",
        "  \\text{4}k+T(0)\\right.\n",
        "\\end{align}\n",
        "\\\\begin{align}\n",
        "  \\text{T}(n) =\\left.\n",
        "  \\text{4}k+1\\right.\n",
        "\\end{align}\n",
        "\\\\begin{align}\n",
        "  \\text{O}(n)\n",
        "\\end{align}\n",
        "\n",
        "\n"
      ],
      "metadata": {
        "id": "PcSjjgEBG5pK"
      }
    },
    {
      "cell_type": "code",
      "source": [
        "%%writefile analisisalgoritmos-punto1-taller5.cpp\n",
        "#include <iostream>\n",
        "using namespace std;\n",
        "//juan pablo sanchez gaitan\n",
        "\n",
        "\n",
        "int factorial(int num);\n",
        "\n",
        "int main(){\n",
        "    int num =3;\n",
        " cout<<\"Factorial de \"<<num<<\" es:\"<<factorial(num)<<endl;\n",
        "}\n",
        "\n",
        "int factorial(int num){\n",
        "    int fact=0;\n",
        "    if(num < 0){\n",
        "        cout<<\"factorial de un numero negatico no existe\"<<endl;\n",
        "\n",
        "    }\n",
        "    else if(num == 0){\n",
        "        return 1;\n",
        "    }\n",
        "    else{\n",
        "        fact =1;\n",
        "         while (num>1){\n",
        "             fact *= num;\n",
        "             num-=1;\n",
        "        }\n",
        "         return fact;\n",
        "    }\n",
        "}"
      ],
      "metadata": {
        "colab": {
          "base_uri": "https://localhost:8080/"
        },
        "id": "OuNWE6SO6jcL",
        "outputId": "0c4c3aeb-fb8c-4834-d58d-bfc619f170f0"
      },
      "execution_count": 13,
      "outputs": [
        {
          "output_type": "stream",
          "name": "stdout",
          "text": [
            "Writing analisisalgoritmos-punto1-taller5.cpp\n"
          ]
        }
      ]
    },
    {
      "cell_type": "markdown",
      "source": [
        "###punto 2"
      ],
      "metadata": {
        "id": "1Bi5ZkO4-gRt"
      }
    },
    {
      "cell_type": "code",
      "source": [
        "%%writefile analisisalgoritmos-punto2-taller5.cpp\n",
        "#include <iostream>\n",
        "using namespace std;\n",
        "//juan pablo sanchez gaitan\n",
        "\n",
        "\n",
        "int euclides(int num1,int num2,int interacciones);\n",
        "\n",
        "int main(){\n",
        "    int num1 =1112,num2=695;\n",
        "  cout<<\"el comun divisor de \"<<num1 <<\" y \"<<num2<<\" es:\"<<euclides( num1,num2, 0) <<endl;\n",
        "}\n",
        "\n",
        "int euclides(int num1,int num2,int interacciones){\n",
        "    \n",
        "    if(num1 == 0){\n",
        "        cout<<\" se itero \"<<interacciones-1<<\" y el resultado fue \";\n",
        "        return num2;\n",
        "    }\n",
        "    \n",
        "    return euclides(num2 % num1,num1,interacciones+1);\n",
        "\n",
        "}"
      ],
      "metadata": {
        "colab": {
          "base_uri": "https://localhost:8080/"
        },
        "id": "gBKTFZym-i5M",
        "outputId": "9e739e67-1fde-4d83-d3b8-367147e9bf8e"
      },
      "execution_count": 46,
      "outputs": [
        {
          "output_type": "stream",
          "name": "stdout",
          "text": [
            "Overwriting analisisalgoritmos-punto2-taller5.cpp\n"
          ]
        }
      ]
    },
    {
      "cell_type": "markdown",
      "source": [
        "##taller 3"
      ],
      "metadata": {
        "id": "ggaWoTebDbjl"
      }
    },
    {
      "cell_type": "code",
      "source": [
        "%%writefile analisisalgoritmos-punto2-taller5.cpp\n",
        "#include <iostream>\n",
        "using namespace std;\n",
        "//juan pablo sanchez gaitan\n",
        "\n",
        ".\n",
        "int euclides(int num1,int num2,int interacciones);\n",
        "\n",
        "int main(){\n",
        "    int num1 =1112,num2=695;\n",
        "  cout<<\"el comun divisor de \"<<num1 <<\" y \"<<num2<<\" es:\"<<euclides( num1,num2, 0) <<endl;\n",
        "}\n",
        "\n",
        "int euclides(int num1,int num2,int interacciones){\n",
        "    \n",
        "    if(num1 == 0){\n",
        "        cout<<\" se itero \"<<interacciones-1<<\" y el resultado fue \";\n",
        "        return num2;\n",
        "    }\n",
        "    \n",
        "    return euclides(num2 % num1,num1,interacciones+1);\n",
        "\n",
        "}"
      ],
      "metadata": {
        "id": "gqZWbjXeDeCD"
      },
      "execution_count": null,
      "outputs": []
    },
    {
      "cell_type": "code",
      "source": [
        "\n",
        "%%shell\n",
        "g++ analisisalgoritmos-punto1-taller5.cpp -o taller\n",
        "./taller\n",
        "\n",
        "g++ analisisalgoritmos-punto2-taller5.cpp -o taller\n",
        "./taller"
      ],
      "metadata": {
        "colab": {
          "base_uri": "https://localhost:8080/"
        },
        "id": "ZwcC9dkN65WI",
        "outputId": "d48ce9ee-e788-4bed-842a-83f44f5b34a6"
      },
      "execution_count": 47,
      "outputs": [
        {
          "output_type": "stream",
          "name": "stdout",
          "text": [
            "Factorial de 3 es:6\n",
            "el comun divisor de 1112 y 695 es: se itero 4 y el resultado fue 139\n"
          ]
        },
        {
          "output_type": "execute_result",
          "data": {
            "text/plain": [
              ""
            ]
          },
          "metadata": {},
          "execution_count": 47
        }
      ]
    }
  ]
}